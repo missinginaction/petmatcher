{
 "cells": [
  {
   "cell_type": "code",
   "execution_count": 2,
   "metadata": {
    "collapsed": true
   },
   "outputs": [],
   "source": [
    "import numpy as np\n",
    "import pandas as pd\n",
    "import sqlite3\n",
    "import math"
   ]
  },
  {
   "cell_type": "code",
   "execution_count": 3,
   "metadata": {
    "collapsed": true
   },
   "outputs": [],
   "source": [
    "conn = sqlite3.connect('lookalike2.db')\n",
    "cursor = conn.cursor()"
   ]
  },
  {
   "cell_type": "code",
   "execution_count": 4,
   "metadata": {},
   "outputs": [
    {
     "name": "stdout",
     "output_type": "stream",
     "text": [
      "[('pfrecords',), ('pf_vectors_0001_1',), ('pf_vectors_0001_2',), ('pf_vectors_0002_1',), ('pf_vectors_0002_2',), ('pf_vectors_0003_1',), ('pf_vectors_0003_2',), ('pf_vectors_0004_1',), ('pf_vectors_0004_2',), ('pf_vectors_0005_1',), ('pf_vectors_0005_2',), ('pf_vectors_0006_1',), ('pf_vectors_0006_2',), ('pf_vectors_0007_1',), ('pf_vectors_0007_2',), ('pf_vectors_0008_1',), ('pf_vectors_0008_2',), ('pf_vectors_0009_1',), ('pf_vectors_0009_2',), ('pf_vectors_0010_1',), ('pf_vectors_0010_2',), ('pf_vectors_0011_1',), ('pf_vectors_0011_2',), ('pf_vectors_0012_1',), ('pf_vectors_0012_2',), ('pf_vectors_0013_1',), ('pf_vectors_0013_2',), ('pf_vectors_0014_1',), ('pf_vectors_0014_2',), ('pf_vectors_0015_1',), ('pf_vectors_0015_2',), ('pf_vectors_0016_1',), ('pf_vectors_0016_2',), ('pf_vectors_0017_1',), ('pf_vectors_0017_2',), ('pf_vectors_0018_1',), ('pf_vectors_0018_2',), ('pf_vectors_0019_1',), ('pf_vectors_0019_2',), ('pf_vectors_0020_1',), ('pf_vectors_0020_2',), ('pf_vectors_0021_1',), ('pf_vectors_0021_2',), ('pf_vectors_0022_1',), ('pf_vectors_0022_2',), ('pf_vectors_0023_1',), ('pf_vectors_0023_2',), ('pf_vectors_0024_1',), ('pf_vectors_0024_2',), ('pf_vectors_0025_1',), ('pf_vectors_0025_2',), ('pf_vectors_0026_1',), ('pf_vectors_0026_2',), ('pf_vectors_0027_1',), ('pf_vectors_0027_2',), ('pf_vectors_0028_1',), ('pf_vectors_0028_2',), ('pf_vectors_0029_1',), ('pf_vectors_0029_2',), ('pf_vectors_0030_1',), ('pf_vectors_0030_2',)]\n"
     ]
    }
   ],
   "source": [
    "cursor.execute(\"SELECT name FROM sqlite_master WHERE type='table';\")\n",
    "print(cursor.fetchall())"
   ]
  },
  {
   "cell_type": "code",
   "execution_count": 6,
   "metadata": {
    "collapsed": true
   },
   "outputs": [],
   "source": [
    "table_list = []\n",
    "for i in range(1,31):\n",
    "    table_list.append(['pf_vectors_'+'0'*(3-math.floor(math.log10(i)))+str(i)+'_1',\n",
    "                       'pf_vectors_'+'0'*(3-math.floor(math.log10(i)))+str(i)+'_2'])"
   ]
  },
  {
   "cell_type": "code",
   "execution_count": 10,
   "metadata": {},
   "outputs": [
    {
     "data": {
      "text/plain": [
       "[['pf_vectors_0001_1', 'pf_vectors_0001_2'],\n",
       " ['pf_vectors_0002_1', 'pf_vectors_0002_2'],\n",
       " ['pf_vectors_0003_1', 'pf_vectors_0003_2'],\n",
       " ['pf_vectors_0004_1', 'pf_vectors_0004_2'],\n",
       " ['pf_vectors_0005_1', 'pf_vectors_0005_2'],\n",
       " ['pf_vectors_0006_1', 'pf_vectors_0006_2'],\n",
       " ['pf_vectors_0007_1', 'pf_vectors_0007_2'],\n",
       " ['pf_vectors_0008_1', 'pf_vectors_0008_2'],\n",
       " ['pf_vectors_0009_1', 'pf_vectors_0009_2'],\n",
       " ['pf_vectors_0010_1', 'pf_vectors_0010_2'],\n",
       " ['pf_vectors_0011_1', 'pf_vectors_0011_2'],\n",
       " ['pf_vectors_0012_1', 'pf_vectors_0012_2'],\n",
       " ['pf_vectors_0013_1', 'pf_vectors_0013_2'],\n",
       " ['pf_vectors_0014_1', 'pf_vectors_0014_2'],\n",
       " ['pf_vectors_0015_1', 'pf_vectors_0015_2'],\n",
       " ['pf_vectors_0016_1', 'pf_vectors_0016_2'],\n",
       " ['pf_vectors_0017_1', 'pf_vectors_0017_2'],\n",
       " ['pf_vectors_0018_1', 'pf_vectors_0018_2'],\n",
       " ['pf_vectors_0019_1', 'pf_vectors_0019_2'],\n",
       " ['pf_vectors_0020_1', 'pf_vectors_0020_2'],\n",
       " ['pf_vectors_0021_1', 'pf_vectors_0021_2'],\n",
       " ['pf_vectors_0022_1', 'pf_vectors_0022_2'],\n",
       " ['pf_vectors_0023_1', 'pf_vectors_0023_2'],\n",
       " ['pf_vectors_0024_1', 'pf_vectors_0024_2'],\n",
       " ['pf_vectors_0025_1', 'pf_vectors_0025_2'],\n",
       " ['pf_vectors_0026_1', 'pf_vectors_0026_2'],\n",
       " ['pf_vectors_0027_1', 'pf_vectors_0027_2'],\n",
       " ['pf_vectors_0028_1', 'pf_vectors_0028_2'],\n",
       " ['pf_vectors_0029_1', 'pf_vectors_0029_2'],\n",
       " ['pf_vectors_0030_1', 'pf_vectors_0030_2']]"
      ]
     },
     "execution_count": 10,
     "metadata": {},
     "output_type": "execute_result"
    }
   ],
   "source": [
    "table_list"
   ]
  },
  {
   "cell_type": "code",
   "execution_count": 8,
   "metadata": {
    "collapsed": true
   },
   "outputs": [],
   "source": [
    "hdf=pd.HDFStore('storage.h5')"
   ]
  },
  {
   "cell_type": "code",
   "execution_count": 15,
   "metadata": {},
   "outputs": [
    {
     "data": {
      "text/plain": [
       "164837659"
      ]
     },
     "execution_count": 15,
     "metadata": {},
     "output_type": "execute_result"
    }
   ],
   "source": [
    "df.memory_usage(deep=True,index=True).sum()"
   ]
  },
  {
   "cell_type": "code",
   "execution_count": 17,
   "metadata": {},
   "outputs": [
    {
     "name": "stdout",
     "output_type": "stream",
     "text": [
      "pf_vectors_0001\n",
      "pf_vectors_0002\n",
      "pf_vectors_0003\n",
      "pf_vectors_0004\n",
      "pf_vectors_0005\n",
      "pf_vectors_0006\n",
      "pf_vectors_0007\n",
      "pf_vectors_0008\n",
      "pf_vectors_0009\n",
      "pf_vectors_0010\n",
      "pf_vectors_0011\n",
      "pf_vectors_0012\n",
      "pf_vectors_0013\n",
      "pf_vectors_0014\n",
      "pf_vectors_0015\n",
      "pf_vectors_0016\n",
      "pf_vectors_0017\n",
      "pf_vectors_0018\n",
      "pf_vectors_0019\n",
      "pf_vectors_0020\n",
      "pf_vectors_0021\n",
      "pf_vectors_0022\n",
      "pf_vectors_0023\n",
      "pf_vectors_0024\n",
      "pf_vectors_0025\n",
      "pf_vectors_0026\n",
      "pf_vectors_0027\n",
      "pf_vectors_0028\n",
      "pf_vectors_0029\n",
      "pf_vectors_0030\n"
     ]
    }
   ],
   "source": [
    "for tablepair in table_list:\n",
    "    tabstr = tablepair[0][:-2]\n",
    "    print(tabstr)\n",
    "    df = pd.merge(pd.read_sql(\"SELECT * FROM \"+tablepair[0],conn,index_col='index'),\n",
    "                  pd.read_sql(\"SELECT * FROM \"+tablepair[1],conn,index_col='index'),\n",
    "                  left_index=True,right_index=True)\n",
    "    hdf[tabstr] = df"
   ]
  },
  {
   "cell_type": "code",
   "execution_count": 19,
   "metadata": {},
   "outputs": [
    {
     "name": "stdout",
     "output_type": "stream",
     "text": [
      "<class 'pandas.io.pytables.HDFStore'>\n",
      "File path: storage.h5\n",
      "/pf_vectors_0001            frame        (shape->[10000,2048])\n",
      "/pf_vectors_0002            frame        (shape->[10000,2048])\n",
      "/pf_vectors_0003            frame        (shape->[10000,2048])\n",
      "/pf_vectors_0004            frame        (shape->[10000,2048])\n",
      "/pf_vectors_0005            frame        (shape->[10000,2048])\n",
      "/pf_vectors_0006            frame        (shape->[10000,2048])\n",
      "/pf_vectors_0007            frame        (shape->[10000,2048])\n",
      "/pf_vectors_0008            frame        (shape->[10000,2048])\n",
      "/pf_vectors_0009            frame        (shape->[10000,2048])\n",
      "/pf_vectors_0010            frame        (shape->[10000,2048])\n",
      "/pf_vectors_0011            frame        (shape->[10000,2048])\n",
      "/pf_vectors_0012            frame        (shape->[10000,2048])\n",
      "/pf_vectors_0013            frame        (shape->[10000,2048])\n",
      "/pf_vectors_0014            frame        (shape->[10000,2048])\n",
      "/pf_vectors_0015            frame        (shape->[10000,2048])\n",
      "/pf_vectors_0016            frame        (shape->[10000,2048])\n",
      "/pf_vectors_0017            frame        (shape->[10000,2048])\n",
      "/pf_vectors_0018            frame        (shape->[10000,2048])\n",
      "/pf_vectors_0019            frame        (shape->[10000,2048])\n",
      "/pf_vectors_0020            frame        (shape->[10000,2048])\n",
      "/pf_vectors_0021            frame        (shape->[10000,2048])\n",
      "/pf_vectors_0022            frame        (shape->[10000,2048])\n",
      "/pf_vectors_0023            frame        (shape->[10000,2048])\n",
      "/pf_vectors_0024            frame        (shape->[10000,2048])\n",
      "/pf_vectors_0025            frame        (shape->[10000,2048])\n",
      "/pf_vectors_0026            frame        (shape->[10000,2048])\n",
      "/pf_vectors_0027            frame        (shape->[10000,2048])\n",
      "/pf_vectors_0028            frame        (shape->[10000,2048])\n",
      "/pf_vectors_0029            frame        (shape->[10000,2048])\n",
      "/pf_vectors_0030            frame        (shape->[7179,2048]) \n"
     ]
    }
   ],
   "source": [
    "print(hdf)"
   ]
  },
  {
   "cell_type": "code",
   "execution_count": 20,
   "metadata": {
    "collapsed": true
   },
   "outputs": [],
   "source": [
    "hdf.close()"
   ]
  },
  {
   "cell_type": "code",
   "execution_count": 21,
   "metadata": {
    "collapsed": true
   },
   "outputs": [],
   "source": [
    "conn.close()"
   ]
  },
  {
   "cell_type": "code",
   "execution_count": null,
   "metadata": {
    "collapsed": true
   },
   "outputs": [],
   "source": []
  },
  {
   "cell_type": "code",
   "execution_count": null,
   "metadata": {
    "collapsed": true
   },
   "outputs": [],
   "source": []
  }
 ],
 "metadata": {
  "kernelspec": {
   "display_name": "Python 3",
   "language": "python",
   "name": "python3"
  },
  "language_info": {
   "codemirror_mode": {
    "name": "ipython",
    "version": 3
   },
   "file_extension": ".py",
   "mimetype": "text/x-python",
   "name": "python",
   "nbconvert_exporter": "python",
   "pygments_lexer": "ipython3",
   "version": "3.6.3"
  }
 },
 "nbformat": 4,
 "nbformat_minor": 2
}
