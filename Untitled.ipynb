{
 "cells": [
  {
   "cell_type": "code",
   "execution_count": 1,
   "metadata": {
    "collapsed": true
   },
   "outputs": [],
   "source": [
    "import pandas as pd"
   ]
  },
  {
   "cell_type": "code",
   "execution_count": 2,
   "metadata": {
    "collapsed": true
   },
   "outputs": [],
   "source": [
    "featuresdf =pd.read_pickle('pf_feature_vecs.pkl')"
   ]
  },
  {
   "cell_type": "code",
   "execution_count": 3,
   "metadata": {},
   "outputs": [
    {
     "data": {
      "text/html": [
       "<div>\n",
       "<style>\n",
       "    .dataframe thead tr:only-child th {\n",
       "        text-align: right;\n",
       "    }\n",
       "\n",
       "    .dataframe thead th {\n",
       "        text-align: left;\n",
       "    }\n",
       "\n",
       "    .dataframe tbody tr th {\n",
       "        vertical-align: top;\n",
       "    }\n",
       "</style>\n",
       "<table border=\"1\" class=\"dataframe\">\n",
       "  <thead>\n",
       "    <tr style=\"text-align: right;\">\n",
       "      <th></th>\n",
       "      <th>f0001</th>\n",
       "      <th>f0002</th>\n",
       "      <th>f0003</th>\n",
       "      <th>f0004</th>\n",
       "      <th>f0005</th>\n",
       "      <th>f0006</th>\n",
       "      <th>f0007</th>\n",
       "      <th>f0008</th>\n",
       "      <th>f0009</th>\n",
       "      <th>f0010</th>\n",
       "      <th>...</th>\n",
       "      <th>f2039</th>\n",
       "      <th>f2040</th>\n",
       "      <th>f2041</th>\n",
       "      <th>f2042</th>\n",
       "      <th>f2043</th>\n",
       "      <th>f2044</th>\n",
       "      <th>f2045</th>\n",
       "      <th>f2046</th>\n",
       "      <th>f2047</th>\n",
       "      <th>f2048</th>\n",
       "    </tr>\n",
       "  </thead>\n",
       "  <tbody>\n",
       "    <tr>\n",
       "      <th>37321899_2</th>\n",
       "      <td>0.183197</td>\n",
       "      <td>0.186004</td>\n",
       "      <td>0.153736</td>\n",
       "      <td>0.599196</td>\n",
       "      <td>0.019716</td>\n",
       "      <td>0.571135</td>\n",
       "      <td>0.124686</td>\n",
       "      <td>0.289108</td>\n",
       "      <td>0.082171</td>\n",
       "      <td>0.111400</td>\n",
       "      <td>...</td>\n",
       "      <td>0.260036</td>\n",
       "      <td>0.350310</td>\n",
       "      <td>0.119345</td>\n",
       "      <td>0.159739</td>\n",
       "      <td>0.456582</td>\n",
       "      <td>1.014712</td>\n",
       "      <td>0.598468</td>\n",
       "      <td>0.315849</td>\n",
       "      <td>0.265983</td>\n",
       "      <td>0.085871</td>\n",
       "    </tr>\n",
       "    <tr>\n",
       "      <th>40512061_2</th>\n",
       "      <td>0.114524</td>\n",
       "      <td>0.453137</td>\n",
       "      <td>0.491525</td>\n",
       "      <td>0.439817</td>\n",
       "      <td>0.064475</td>\n",
       "      <td>0.158420</td>\n",
       "      <td>0.172567</td>\n",
       "      <td>0.623011</td>\n",
       "      <td>0.087223</td>\n",
       "      <td>0.115736</td>\n",
       "      <td>...</td>\n",
       "      <td>0.098455</td>\n",
       "      <td>0.430603</td>\n",
       "      <td>0.461064</td>\n",
       "      <td>1.229808</td>\n",
       "      <td>0.030521</td>\n",
       "      <td>0.676419</td>\n",
       "      <td>0.379262</td>\n",
       "      <td>0.000443</td>\n",
       "      <td>0.064353</td>\n",
       "      <td>0.147685</td>\n",
       "    </tr>\n",
       "    <tr>\n",
       "      <th>33911103_3</th>\n",
       "      <td>0.229791</td>\n",
       "      <td>0.303604</td>\n",
       "      <td>0.175317</td>\n",
       "      <td>0.096221</td>\n",
       "      <td>0.151305</td>\n",
       "      <td>0.199762</td>\n",
       "      <td>0.305536</td>\n",
       "      <td>0.797242</td>\n",
       "      <td>0.115486</td>\n",
       "      <td>0.195803</td>\n",
       "      <td>...</td>\n",
       "      <td>0.483539</td>\n",
       "      <td>0.835062</td>\n",
       "      <td>0.225858</td>\n",
       "      <td>0.342373</td>\n",
       "      <td>0.301455</td>\n",
       "      <td>0.071204</td>\n",
       "      <td>1.098847</td>\n",
       "      <td>0.357828</td>\n",
       "      <td>0.031525</td>\n",
       "      <td>0.137249</td>\n",
       "    </tr>\n",
       "    <tr>\n",
       "      <th>40619395_5</th>\n",
       "      <td>0.458574</td>\n",
       "      <td>0.294704</td>\n",
       "      <td>0.201771</td>\n",
       "      <td>0.358014</td>\n",
       "      <td>0.328013</td>\n",
       "      <td>0.100848</td>\n",
       "      <td>0.062468</td>\n",
       "      <td>0.350622</td>\n",
       "      <td>0.225882</td>\n",
       "      <td>0.255917</td>\n",
       "      <td>...</td>\n",
       "      <td>0.081949</td>\n",
       "      <td>0.743432</td>\n",
       "      <td>0.506430</td>\n",
       "      <td>0.144065</td>\n",
       "      <td>0.155802</td>\n",
       "      <td>0.482865</td>\n",
       "      <td>0.947210</td>\n",
       "      <td>0.109916</td>\n",
       "      <td>0.319532</td>\n",
       "      <td>0.126712</td>\n",
       "    </tr>\n",
       "    <tr>\n",
       "      <th>40109856_6</th>\n",
       "      <td>0.167020</td>\n",
       "      <td>0.514602</td>\n",
       "      <td>0.364051</td>\n",
       "      <td>0.327400</td>\n",
       "      <td>0.080716</td>\n",
       "      <td>0.288681</td>\n",
       "      <td>0.198450</td>\n",
       "      <td>0.203169</td>\n",
       "      <td>0.078042</td>\n",
       "      <td>0.099737</td>\n",
       "      <td>...</td>\n",
       "      <td>0.264169</td>\n",
       "      <td>0.170625</td>\n",
       "      <td>0.493304</td>\n",
       "      <td>0.333891</td>\n",
       "      <td>0.487900</td>\n",
       "      <td>0.249126</td>\n",
       "      <td>0.204738</td>\n",
       "      <td>0.568992</td>\n",
       "      <td>0.329679</td>\n",
       "      <td>0.336644</td>\n",
       "    </tr>\n",
       "  </tbody>\n",
       "</table>\n",
       "<p>5 rows × 2048 columns</p>\n",
       "</div>"
      ],
      "text/plain": [
       "               f0001     f0002     f0003     f0004     f0005     f0006  \\\n",
       "37321899_2  0.183197  0.186004  0.153736  0.599196  0.019716  0.571135   \n",
       "40512061_2  0.114524  0.453137  0.491525  0.439817  0.064475  0.158420   \n",
       "33911103_3  0.229791  0.303604  0.175317  0.096221  0.151305  0.199762   \n",
       "40619395_5  0.458574  0.294704  0.201771  0.358014  0.328013  0.100848   \n",
       "40109856_6  0.167020  0.514602  0.364051  0.327400  0.080716  0.288681   \n",
       "\n",
       "               f0007     f0008     f0009     f0010    ...        f2039  \\\n",
       "37321899_2  0.124686  0.289108  0.082171  0.111400    ...     0.260036   \n",
       "40512061_2  0.172567  0.623011  0.087223  0.115736    ...     0.098455   \n",
       "33911103_3  0.305536  0.797242  0.115486  0.195803    ...     0.483539   \n",
       "40619395_5  0.062468  0.350622  0.225882  0.255917    ...     0.081949   \n",
       "40109856_6  0.198450  0.203169  0.078042  0.099737    ...     0.264169   \n",
       "\n",
       "               f2040     f2041     f2042     f2043     f2044     f2045  \\\n",
       "37321899_2  0.350310  0.119345  0.159739  0.456582  1.014712  0.598468   \n",
       "40512061_2  0.430603  0.461064  1.229808  0.030521  0.676419  0.379262   \n",
       "33911103_3  0.835062  0.225858  0.342373  0.301455  0.071204  1.098847   \n",
       "40619395_5  0.743432  0.506430  0.144065  0.155802  0.482865  0.947210   \n",
       "40109856_6  0.170625  0.493304  0.333891  0.487900  0.249126  0.204738   \n",
       "\n",
       "               f2046     f2047     f2048  \n",
       "37321899_2  0.315849  0.265983  0.085871  \n",
       "40512061_2  0.000443  0.064353  0.147685  \n",
       "33911103_3  0.357828  0.031525  0.137249  \n",
       "40619395_5  0.109916  0.319532  0.126712  \n",
       "40109856_6  0.568992  0.329679  0.336644  \n",
       "\n",
       "[5 rows x 2048 columns]"
      ]
     },
     "execution_count": 3,
     "metadata": {},
     "output_type": "execute_result"
    }
   ],
   "source": [
    "featuresdf.head()"
   ]
  },
  {
   "cell_type": "code",
   "execution_count": 4,
   "metadata": {},
   "outputs": [
    {
     "data": {
      "text/plain": [
       "24526"
      ]
     },
     "execution_count": 4,
     "metadata": {},
     "output_type": "execute_result"
    }
   ],
   "source": [
    "len(featuresdf)"
   ]
  },
  {
   "cell_type": "code",
   "execution_count": 7,
   "metadata": {
    "collapsed": true
   },
   "outputs": [],
   "source": [
    "featuresdf_red = featuresdf.iloc[0:5000]"
   ]
  },
  {
   "cell_type": "code",
   "execution_count": 9,
   "metadata": {},
   "outputs": [],
   "source": [
    "featuresdf_red.to_pickle('pf_feature_vecs_red.pkl')"
   ]
  },
  {
   "cell_type": "code",
   "execution_count": null,
   "metadata": {
    "collapsed": true
   },
   "outputs": [],
   "source": []
  }
 ],
 "metadata": {
  "kernelspec": {
   "display_name": "Python 3",
   "language": "python",
   "name": "python3"
  },
  "language_info": {
   "codemirror_mode": {
    "name": "ipython",
    "version": 3
   },
   "file_extension": ".py",
   "mimetype": "text/x-python",
   "name": "python",
   "nbconvert_exporter": "python",
   "pygments_lexer": "ipython3",
   "version": "3.6.3"
  }
 },
 "nbformat": 4,
 "nbformat_minor": 2
}
