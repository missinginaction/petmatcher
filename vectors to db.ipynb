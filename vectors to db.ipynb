{
 "cells": [
  {
   "cell_type": "code",
   "execution_count": 1,
   "metadata": {
    "collapsed": true
   },
   "outputs": [],
   "source": [
    "import numpy as np\n",
    "import pandas as pd\n",
    "import os\n",
    "import glob\n"
   ]
  },
  {
   "cell_type": "code",
   "execution_count": 2,
   "metadata": {},
   "outputs": [],
   "source": [
    "infiles = glob.glob('image_vectors/*.npz')\n",
    "file_index_to_file_name = {}\n",
    "file_index_to_file_vector = {}\n",
    "\n"
   ]
  },
  {
   "cell_type": "code",
   "execution_count": 3,
   "metadata": {
    "collapsed": true
   },
   "outputs": [],
   "source": [
    "for file_index, i in enumerate(infiles):\n",
    "  file_vector = np.loadtxt(i)\n",
    "  file_name = os.path.basename(i).split('.')[0]\n",
    "  file_index_to_file_name[file_index] = file_name\n",
    "  file_index_to_file_vector[file_index] = file_vector\n",
    "  #t.add_item(file_index, file_vector)"
   ]
  },
  {
   "cell_type": "code",
   "execution_count": 7,
   "metadata": {
    "collapsed": true
   },
   "outputs": [],
   "source": [
    "tables=[]"
   ]
  },
  {
   "cell_type": "code",
   "execution_count": 8,
   "metadata": {},
   "outputs": [
    {
     "data": {
      "text/plain": [
       "{}"
      ]
     },
     "execution_count": 8,
     "metadata": {},
     "output_type": "execute_result"
    }
   ],
   "source": [
    "file_index_to_file_name"
   ]
  },
  {
   "cell_type": "code",
   "execution_count": null,
   "metadata": {
    "collapsed": true
   },
   "outputs": [],
   "source": [
    "featuredf = pd.DataFrame(columns=featurelist)\n",
    "for i in range(len(file_index_to_file_name)):\n",
    "    print(i)\n",
    "    featuredf.loc[file_index_to_file_name[i]]=file_index_to_file_vector[i]"
   ]
  },
  {
   "cell_type": "code",
   "execution_count": null,
   "metadata": {
    "collapsed": true
   },
   "outputs": [],
   "source": [
    "featuredf.to_pickle(\"pf_feature_vecs.pkl\")"
   ]
  },
  {
   "cell_type": "code",
   "execution_count": 4,
   "metadata": {
    "collapsed": true
   },
   "outputs": [],
   "source": [
    "featuredf = pd.read_pickle(\"pf_feature_vecs.pkl\")"
   ]
  },
  {
   "cell_type": "code",
   "execution_count": 5,
   "metadata": {
    "collapsed": true
   },
   "outputs": [],
   "source": [
    "featurelist = featuredf.columns"
   ]
  },
  {
   "cell_type": "code",
   "execution_count": 6,
   "metadata": {},
   "outputs": [
    {
     "data": {
      "text/plain": [
       "Index(['f0001', 'f0002', 'f0003', 'f0004', 'f0005', 'f0006', 'f0007', 'f0008',\n",
       "       'f0009', 'f0010',\n",
       "       ...\n",
       "       'f2039', 'f2040', 'f2041', 'f2042', 'f2043', 'f2044', 'f2045', 'f2046',\n",
       "       'f2047', 'f2048'],\n",
       "      dtype='object', length=2048)"
      ]
     },
     "execution_count": 6,
     "metadata": {},
     "output_type": "execute_result"
    }
   ],
   "source": [
    "featurelist"
   ]
  },
  {
   "cell_type": "code",
   "execution_count": null,
   "metadata": {
    "collapsed": true
   },
   "outputs": [],
   "source": [
    "testfiles = glob.glob('image_vectors_test/*.npz')\n",
    "test_file_index_to_file_name = {}\n",
    "test_file_index_to_file_vector = {}\n"
   ]
  },
  {
   "cell_type": "code",
   "execution_count": null,
   "metadata": {
    "collapsed": true
   },
   "outputs": [],
   "source": [
    "for file_index, i in enumerate(testfiles):\n",
    "  file_vector = np.loadtxt(i)\n",
    "  file_name = os.path.basename(i).split('.')[0]\n",
    "  test_file_index_to_file_name[file_index] = file_name\n",
    "  test_file_index_to_file_vector[file_index] = file_vector\n",
    "  #t.add_item(file_index, file_vector)"
   ]
  },
  {
   "cell_type": "code",
   "execution_count": null,
   "metadata": {
    "collapsed": true
   },
   "outputs": [],
   "source": [
    "testdf = pd.DataFrame(columns=featurelist)\n",
    "for i in range(len(test_file_index_to_file_name)):\n",
    "    testdf.loc[test_file_index_to_file_name[i]]=test_file_index_to_file_vector[i]"
   ]
  },
  {
   "cell_type": "code",
   "execution_count": null,
   "metadata": {
    "collapsed": true
   },
   "outputs": [],
   "source": [
    "similarity = pairwise.cosine_similarity(featuredf,testdf)"
   ]
  },
  {
   "cell_type": "code",
   "execution_count": null,
   "metadata": {
    "collapsed": true
   },
   "outputs": [],
   "source": [
    "for ind in testdf.index:\n",
    "    featuredf[ind] = similarity[:,testdf.index.get_loc(ind)]"
   ]
  },
  {
   "cell_type": "code",
   "execution_count": null,
   "metadata": {},
   "outputs": [],
   "source": [
    "featuredf.head()"
   ]
  },
  {
   "cell_type": "code",
   "execution_count": null,
   "metadata": {
    "collapsed": true
   },
   "outputs": [],
   "source": [
    "inputimage = 'dach2'"
   ]
  },
  {
   "cell_type": "code",
   "execution_count": null,
   "metadata": {},
   "outputs": [],
   "source": [
    "INPUTPATH = '/Users/miaCDIPS/Desktop/testpics/'\n",
    "inputimg = Image(filename = INPUTPATH + inputimage + \".jpg\", height = 600)\n",
    "display(inputimg)"
   ]
  },
  {
   "cell_type": "code",
   "execution_count": null,
   "metadata": {
    "scrolled": false
   },
   "outputs": [],
   "source": [
    "top10list = featuredf.sort_values(inputimage,ascending=0).head(10).index\n",
    "PATH='/Users/miaCDIPS/petphotos/'\n",
    "for simpic in top10list:\n",
    "    img = Image(filename = PATH +simpic+\".jpg\",width=300)\n",
    "    display(img)"
   ]
  },
  {
   "cell_type": "code",
   "execution_count": null,
   "metadata": {
    "collapsed": true
   },
   "outputs": [],
   "source": []
  },
  {
   "cell_type": "code",
   "execution_count": null,
   "metadata": {
    "collapsed": true
   },
   "outputs": [],
   "source": []
  },
  {
   "cell_type": "code",
   "execution_count": null,
   "metadata": {
    "collapsed": true
   },
   "outputs": [],
   "source": []
  },
  {
   "cell_type": "code",
   "execution_count": null,
   "metadata": {
    "collapsed": true
   },
   "outputs": [],
   "source": []
  },
  {
   "cell_type": "code",
   "execution_count": null,
   "metadata": {
    "collapsed": true
   },
   "outputs": [],
   "source": []
  },
  {
   "cell_type": "code",
   "execution_count": null,
   "metadata": {
    "collapsed": true
   },
   "outputs": [],
   "source": []
  },
  {
   "cell_type": "code",
   "execution_count": null,
   "metadata": {
    "collapsed": true
   },
   "outputs": [],
   "source": []
  },
  {
   "cell_type": "code",
   "execution_count": null,
   "metadata": {
    "collapsed": true
   },
   "outputs": [],
   "source": []
  },
  {
   "cell_type": "code",
   "execution_count": null,
   "metadata": {},
   "outputs": [],
   "source": [
    "for ind in testdf.index:\n",
    "    featuredf[ind+'_dist'] = distance[:,testdf.index.get_loc(ind)]"
   ]
  },
  {
   "cell_type": "code",
   "execution_count": null,
   "metadata": {
    "collapsed": true
   },
   "outputs": [],
   "source": [
    "inputimage = 'yorkie'"
   ]
  },
  {
   "cell_type": "code",
   "execution_count": null,
   "metadata": {},
   "outputs": [],
   "source": [
    "INPUTPATH = '/Users/miaCDIPS/Desktop/testpics/'\n",
    "inputimg = Image(filename = INPUTPATH + inputimage + \".jpg\",width=600)\n",
    "display(inputimg)"
   ]
  },
  {
   "cell_type": "code",
   "execution_count": null,
   "metadata": {
    "scrolled": false
   },
   "outputs": [],
   "source": [
    "top10list = featuredf.sort_values(inputimage+'_dist',ascending=True).head(10).index\n",
    "PATH='/Users/miaCDIPS/petphotos/'\n",
    "for simpic in top10list:\n",
    "    img = Image(filename = PATH +simpic+\".jpg\",width=300)\n",
    "    display(img)"
   ]
  },
  {
   "cell_type": "code",
   "execution_count": null,
   "metadata": {
    "collapsed": true
   },
   "outputs": [],
   "source": []
  }
 ],
 "metadata": {
  "kernelspec": {
   "display_name": "Python 3",
   "language": "python",
   "name": "python3"
  },
  "language_info": {
   "codemirror_mode": {
    "name": "ipython",
    "version": 3
   },
   "file_extension": ".py",
   "mimetype": "text/x-python",
   "name": "python",
   "nbconvert_exporter": "python",
   "pygments_lexer": "ipython3",
   "version": "3.6.3"
  }
 },
 "nbformat": 4,
 "nbformat_minor": 2
}
